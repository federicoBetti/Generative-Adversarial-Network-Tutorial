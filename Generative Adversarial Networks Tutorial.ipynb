{
  "nbformat": 4,
  "nbformat_minor": 0,
  "metadata": {
    "colab": {
      "name": "Generative Adversarial Networks Tutorial.ipynb",
      "version": "0.3.2",
      "provenance": []
    },
    "kernelspec": {
      "name": "python3",
      "display_name": "Python 3"
    },
    "accelerator": "GPU"
  },
  "cells": [
    {
      "metadata": {
        "deletable": true,
        "editable": true,
        "id": "OM8vr4sEBZnU",
        "colab_type": "text"
      },
      "cell_type": "markdown",
      "source": [
        "# Getting Started"
      ]
    },
    {
      "metadata": {
        "deletable": true,
        "editable": true,
        "id": "0mGNnxVLBZnb",
        "colab_type": "text"
      },
      "cell_type": "markdown",
      "source": [
        "According to Yann LeCun, “adversarial training is the coolest thing since sliced bread”. I’m inclined to believe so because I don’t think sliced bread ever created this much buzz and excitement within the deep learning community. Generative Adversarial Networks are a set of models that basically learn to create synthetic data that is similar to input data it's given. In more formal terms, a GAN is a generative model that learns the probability distribution (or data distribution) of the training examples it is given. From this distribution, we can then create sample outputs. GANs have seen their largest progress with image training examples, but this idea of modeling data distributions is one that can be applied with other forms of input.In the case described in today’s post, we’ll be creating a GAN that learns to generate synthetic, yet readable, images of MNIST digits. "
      ]
    },
    {
      "metadata": {
        "deletable": true,
        "editable": true,
        "id": "RnW6Ic0SBZne",
        "colab_type": "text"
      },
      "cell_type": "markdown",
      "source": [
        "In this notebook, we'll be explaining generative adversarial networks, and how you can use them to create a generator network that can create realistic MNIST digits through Tensorflow"
      ]
    },
    {
      "metadata": {
        "deletable": true,
        "editable": true,
        "id": "GgB0Zwn9BZnf",
        "colab_type": "text"
      },
      "cell_type": "markdown",
      "source": [
        "# GAN Architecture"
      ]
    },
    {
      "metadata": {
        "deletable": true,
        "editable": true,
        "id": "dugxNonHBZnh",
        "colab_type": "text"
      },
      "cell_type": "markdown",
      "source": [
        "Let’s dig a little bit deeper into the structure of this model. The basic idea of these networks is that you have 2 models, a generative model and a discriminative model. "
      ]
    },
    {
      "metadata": {
        "deletable": true,
        "editable": true,
        "id": "YWKKX656BZnk",
        "colab_type": "text"
      },
      "cell_type": "markdown",
      "source": [
        "![caption](https://github.com/federicoBetti/Generative-Adversarial-Network-Tutorial/blob/master/Images/GAN1.png?raw=1)"
      ]
    },
    {
      "metadata": {
        "deletable": true,
        "editable": true,
        "id": "v2DCJj88BZnl",
        "colab_type": "text"
      },
      "cell_type": "markdown",
      "source": [
        "The discriminative model has the task of determining whether a given image looks natural (an image from the dataset) or looks like it has been artificially created. This is basically a binary classifier that will take the form of a normal convolutional neural network (CNN).  The task of the generator is to create natural looking images that are similar to the original data distribution. \n",
        "\n",
        "This can be thought of as a zero-sum or minimax two player game. The analogy used in the paper is that the generative model is like “a team of counterfeiters, trying to produce and use fake currency” while the discriminative model is like “the police, trying to detect the counterfeit currency”. The generator is trying to fool the discriminator while the discriminator is trying to not get fooled by the generator. As the models train through alternating optimization, both methods are improved until a point where the “counterfeits are indistinguishable from the genuine articles”. There are specific game theory concepts that prove there is indeed an equilibrium to this game where the generator gets so good that the discriminator outputs a probability of ½ for every input. "
      ]
    },
    {
      "metadata": {
        "deletable": true,
        "editable": true,
        "id": "W-AKJ9thBZnn",
        "colab_type": "text"
      },
      "cell_type": "markdown",
      "source": [
        "# Our Task"
      ]
    },
    {
      "metadata": {
        "deletable": true,
        "editable": true,
        "id": "ZNVWmzM8BZno",
        "colab_type": "text"
      },
      "cell_type": "markdown",
      "source": [
        "Today, we’re going to create a GAN that will generate MNIST digits that can fool even the best classifiers (and humans too of course). Here’s what we’re going to need:\n",
        "\n",
        "- Real MNIST training images\n",
        "- A generator network that takes in a random noise vector and produces a synthetic image\n",
        "- A discriminator network (a CNN) that learns to distinguish between real and synthetic images. You can think of it as just a binary classifier (1 for real image, 0 for fake)\n",
        "- An optimization procedure that jointly updates both networks through SGD. This is the tricky part as we need to train the generator network to fool the discriminator network, which means that we have unique gradient flows and labels. \n",
        "- Tensorflow - Our choice of Deep Learning framework\n",
        "\n",
        "Let’s get started. "
      ]
    },
    {
      "metadata": {
        "deletable": true,
        "editable": true,
        "id": "dxzeK_CVBZnq",
        "colab_type": "text"
      },
      "cell_type": "markdown",
      "source": [
        "# Loading MNIST Data"
      ]
    },
    {
      "metadata": {
        "deletable": true,
        "editable": true,
        "id": "gjc_BFhTBZnr",
        "colab_type": "text"
      },
      "cell_type": "markdown",
      "source": [
        "First, let's start with our imports. We'll mainly just need Tensorflow. I've also imported Numpy to help with some matrices, the random library for generating numbers, and Matplotlib for visualizing our image data. "
      ]
    },
    {
      "metadata": {
        "deletable": true,
        "editable": true,
        "id": "rNrEfzLjBZny",
        "colab_type": "code",
        "colab": {}
      },
      "cell_type": "code",
      "source": [
        "import tensorflow as tf\n",
        "import random\n",
        "import numpy as np\n",
        "import matplotlib.pyplot as plt\n",
        "%matplotlib inline"
      ],
      "execution_count": 0,
      "outputs": []
    },
    {
      "metadata": {
        "deletable": true,
        "editable": true,
        "id": "pbTkOQovBZn1",
        "colab_type": "text"
      },
      "cell_type": "markdown",
      "source": [
        "Now, we have to import our MNIST images. To do this, we’ll call a TF function called read_data_sets. This loads in the 55,000 training examples in the MNIST database. "
      ]
    },
    {
      "metadata": {
        "id": "X3bN4YNMq6Hk",
        "colab_type": "text"
      },
      "cell_type": "markdown",
      "source": [
        "this is an example in order to know if you have a **GPU** to run on"
      ]
    },
    {
      "metadata": {
        "id": "bNhhp2EMBy59",
        "colab_type": "code",
        "outputId": "cc2a3918-f3c4-45b1-fe80-ad5d2f97fa2a",
        "colab": {
          "base_uri": "https://localhost:8080/",
          "height": 87
        }
      },
      "cell_type": "code",
      "source": [
        "with tf.device('/gpu:0'):\n",
        "    a = tf.constant([1.0, 2.0, 3.0, 4.0, 5.0, 6.0], shape=[2, 3], name='a')\n",
        "    b = tf.constant([1.0, 2.0, 3.0, 4.0, 5.0, 6.0], shape=[3, 2], name='b')\n",
        "    c = tf.matmul(a, b)\n",
        "    d = tf.multiply(c,2)\n",
        "\n",
        "with tf.Session() as sess:\n",
        "    print (sess.run(c))\n",
        "    print (sess.run(d))"
      ],
      "execution_count": 2,
      "outputs": [
        {
          "output_type": "stream",
          "text": [
            "[[22. 28.]\n",
            " [49. 64.]]\n",
            "[[ 44.  56.]\n",
            " [ 98. 128.]]\n"
          ],
          "name": "stdout"
        }
      ]
    },
    {
      "metadata": {
        "deletable": true,
        "editable": true,
        "scrolled": true,
        "id": "rm4emcdJBZn3",
        "colab_type": "code",
        "outputId": "b4f0b8ae-280a-4224-c328-664881395cae",
        "colab": {
          "base_uri": "https://localhost:8080/",
          "height": 492
        }
      },
      "cell_type": "code",
      "source": [
        "from tensorflow.examples.tutorials.mnist import input_data\n",
        "mnist = input_data.read_data_sets(\"MNIST_data/\")"
      ],
      "execution_count": 3,
      "outputs": [
        {
          "output_type": "stream",
          "text": [
            "WARNING:tensorflow:From <ipython-input-3-2aed5ca29197>:2: read_data_sets (from tensorflow.contrib.learn.python.learn.datasets.mnist) is deprecated and will be removed in a future version.\n",
            "Instructions for updating:\n",
            "Please use alternatives such as official/mnist/dataset.py from tensorflow/models.\n",
            "WARNING:tensorflow:From /usr/local/lib/python3.6/dist-packages/tensorflow/contrib/learn/python/learn/datasets/mnist.py:260: maybe_download (from tensorflow.contrib.learn.python.learn.datasets.base) is deprecated and will be removed in a future version.\n",
            "Instructions for updating:\n",
            "Please write your own downloading logic.\n",
            "WARNING:tensorflow:From /usr/local/lib/python3.6/dist-packages/tensorflow/contrib/learn/python/learn/datasets/base.py:252: _internal_retry.<locals>.wrap.<locals>.wrapped_fn (from tensorflow.contrib.learn.python.learn.datasets.base) is deprecated and will be removed in a future version.\n",
            "Instructions for updating:\n",
            "Please use urllib or similar directly.\n",
            "Successfully downloaded train-images-idx3-ubyte.gz 9912422 bytes.\n",
            "WARNING:tensorflow:From /usr/local/lib/python3.6/dist-packages/tensorflow/contrib/learn/python/learn/datasets/mnist.py:262: extract_images (from tensorflow.contrib.learn.python.learn.datasets.mnist) is deprecated and will be removed in a future version.\n",
            "Instructions for updating:\n",
            "Please use tf.data to implement this functionality.\n",
            "Extracting MNIST_data/train-images-idx3-ubyte.gz\n",
            "Successfully downloaded train-labels-idx1-ubyte.gz 28881 bytes.\n",
            "WARNING:tensorflow:From /usr/local/lib/python3.6/dist-packages/tensorflow/contrib/learn/python/learn/datasets/mnist.py:267: extract_labels (from tensorflow.contrib.learn.python.learn.datasets.mnist) is deprecated and will be removed in a future version.\n",
            "Instructions for updating:\n",
            "Please use tf.data to implement this functionality.\n",
            "Extracting MNIST_data/train-labels-idx1-ubyte.gz\n",
            "Successfully downloaded t10k-images-idx3-ubyte.gz 1648877 bytes.\n",
            "Extracting MNIST_data/t10k-images-idx3-ubyte.gz\n",
            "Successfully downloaded t10k-labels-idx1-ubyte.gz 4542 bytes.\n",
            "Extracting MNIST_data/t10k-labels-idx1-ubyte.gz\n",
            "WARNING:tensorflow:From /usr/local/lib/python3.6/dist-packages/tensorflow/contrib/learn/python/learn/datasets/mnist.py:290: DataSet.__init__ (from tensorflow.contrib.learn.python.learn.datasets.mnist) is deprecated and will be removed in a future version.\n",
            "Instructions for updating:\n",
            "Please use alternatives such as official/mnist/dataset.py from tensorflow/models.\n"
          ],
          "name": "stdout"
        }
      ]
    },
    {
      "metadata": {
        "deletable": true,
        "editable": true,
        "id": "TfS6Voc8BZn9",
        "colab_type": "text"
      },
      "cell_type": "markdown",
      "source": [
        "The mnist variable we created above actually contains both the images and their labels. Let's just isolate the images for now. There will be 55,000 images and each of them will be of sixe 28 x 28."
      ]
    },
    {
      "metadata": {
        "deletable": true,
        "editable": true,
        "id": "OYqERnNNBZn-",
        "colab_type": "code",
        "outputId": "e87319e6-b10e-4211-ec5c-66f008c0bac0",
        "colab": {
          "base_uri": "https://localhost:8080/",
          "height": 34
        }
      },
      "cell_type": "code",
      "source": [
        "x_train = mnist.train.images[:55000,:]\n",
        "x_train.shape"
      ],
      "execution_count": 4,
      "outputs": [
        {
          "output_type": "execute_result",
          "data": {
            "text/plain": [
              "(55000, 784)"
            ]
          },
          "metadata": {
            "tags": []
          },
          "execution_count": 4
        }
      ]
    },
    {
      "metadata": {
        "deletable": true,
        "editable": true,
        "id": "oc2VgWGMBZoD",
        "colab_type": "text"
      },
      "cell_type": "markdown",
      "source": [
        "Let's look at what a random image might look like. "
      ]
    },
    {
      "metadata": {
        "deletable": true,
        "editable": true,
        "id": "6ozLhuTUBZoE",
        "colab_type": "code",
        "outputId": "cb878017-0367-486f-ae75-3a6ac87978cd",
        "colab": {
          "base_uri": "https://localhost:8080/",
          "height": 265
        }
      },
      "cell_type": "code",
      "source": [
        "randomNum = random.randint(0,55000)\n",
        "image = x_train[randomNum].reshape([28,28])\n",
        "plt.imshow(image, cmap=plt.get_cmap('gray_r'))\n",
        "plt.show()"
      ],
      "execution_count": 5,
      "outputs": [
        {
          "output_type": "display_data",
          "data": {
            "image/png": "[encoded data removed]",
            "text/plain": [
              "<matplotlib.figure.Figure at 0x7f3f6daffcc0>"
            ]
          },
          "metadata": {
            "tags": []
          }
        }
      ]
    },
    {
      "metadata": {
        "deletable": true,
        "editable": true,
        "id": "j72b3O9lBZoI",
        "colab_type": "text"
      },
      "cell_type": "markdown",
      "source": [
        "# Discriminator Network"
      ]
    },
    {
      "metadata": {
        "deletable": true,
        "editable": true,
        "id": "3rc8cXyCBZoJ",
        "colab_type": "text"
      },
      "cell_type": "markdown",
      "source": [
        "   Now, using our classical CS concept of modularity, let’s define a CNN classifier function that takes in an image (of size 28 x 28 x 1) as input. The output will be a single scalar number activation that describes whether or not the input image is real or not."
      ]
    },
    {
      "metadata": {
        "deletable": true,
        "editable": true,
        "id": "nOcg_ShaBZoK",
        "colab_type": "text"
      },
      "cell_type": "markdown",
      "source": [
        "![caption](https://github.com/federicoBetti/Generative-Adversarial-Network-Tutorial/blob/master/Images/GAN2.png?raw=1)"
      ]
    },
    {
      "metadata": {
        "deletable": true,
        "editable": true,
        "id": "12pnY1lzBZoM",
        "colab_type": "text"
      },
      "cell_type": "markdown",
      "source": [
        "In order to do that, let's first define some functions that will help us with creating CNNs in Tensorflow"
      ]
    },
    {
      "metadata": {
        "deletable": true,
        "editable": true,
        "id": "-8TzT0hrBZoN",
        "colab_type": "code",
        "colab": {}
      },
      "cell_type": "code",
      "source": [
        "def conv2d(x, W):\n",
        "  return tf.nn.conv2d(input=x, filter=W, strides=[1, 1, 1, 1], padding='SAME')\n",
        "\n",
        "def avg_pool_2x2(x):\n",
        "  return tf.nn.avg_pool(x, ksize=[1, 2, 2, 1], strides=[1, 2, 2, 1], padding='SAME')"
      ],
      "execution_count": 0,
      "outputs": []
    },
    {
      "metadata": {
        "deletable": true,
        "editable": true,
        "id": "mfezLIZ6BZoS",
        "colab_type": "text"
      },
      "cell_type": "markdown",
      "source": [
        "Now, let’s see how we’re going to compose this network. We’ll start off by passing the image through a convolutional layer. First, we create our weight and bias variables through tf.get_variable. Our first weight matrix (or filter) will be of size 5x5 and will have a output depth of 8. It will be randomly initialized from a normal distribution."
      ]
    },
    {
      "metadata": {
        "deletable": true,
        "editable": true,
        "id": "tMiBRbrBBZoU",
        "colab_type": "text"
      },
      "cell_type": "markdown",
      "source": [
        "Then, we’ll call the function tf.nn.conv2d() through our a helper function called conv2d. tf.nn.conv2d() is the Tensorflow’s function for a common convolution. It takes in 4 arguments. The first is the input volume (our 28 x 28 x 1 image in this case). The next argument is the filter/weight matrix. Finally, you can also change the stride and padding of the convolution. Those two values affect the dimensions of the output volume. "
      ]
    },
    {
      "metadata": {
        "deletable": true,
        "editable": true,
        "id": "U9q942y7BZoV",
        "colab_type": "text"
      },
      "cell_type": "markdown",
      "source": [
        "As with any convolutional neural network, this module is repeated, and then followed by a series of fully connected layers. At the end of the network, we do a final matrix multiply and return the activation value. For those of you comfortable with CNNs, this is just a simple binary classifier. Nothing fancy. "
      ]
    },
    {
      "metadata": {
        "deletable": true,
        "editable": true,
        "id": "m8B-70cLBZoW",
        "colab_type": "text"
      },
      "cell_type": "markdown",
      "source": [
        "This architecture for this network is based on Tensorflow's sample CNN classifier model that they have explained in detail here: https://www.tensorflow.org/tutorials/mnist/pros/"
      ]
    },
    {
      "metadata": {
        "deletable": true,
        "editable": true,
        "id": "wb62z7wuBZoX",
        "colab_type": "code",
        "colab": {}
      },
      "cell_type": "code",
      "source": [
        "def discriminator(x_image, reuse=False):\n",
        "    with tf.variable_scope('discriminator') as scope:\n",
        "        if (reuse):\n",
        "            tf.get_variable_scope().reuse_variables()\n",
        "        #First Conv and Pool Layers\n",
        "        W_conv1 = tf.get_variable('d_wconv1', [5, 5, 1, 8], initializer=tf.truncated_normal_initializer(stddev=0.02))\n",
        "        b_conv1 = tf.get_variable('d_bconv1', [8], initializer=tf.constant_initializer(0))\n",
        "        h_conv1 = tf.nn.relu(conv2d(x_image, W_conv1) + b_conv1)\n",
        "        h_pool1 = avg_pool_2x2(h_conv1)\n",
        "\n",
        "        #Second Conv and Pool Layers\n",
        "        W_conv2 = tf.get_variable('d_wconv2', [5, 5, 8, 16], initializer=tf.truncated_normal_initializer(stddev=0.02))\n",
        "        b_conv2 = tf.get_variable('d_bconv2', [16], initializer=tf.constant_initializer(0))\n",
        "        h_conv2 = tf.nn.relu(conv2d(h_pool1, W_conv2) + b_conv2)\n",
        "        h_pool2 = avg_pool_2x2(h_conv2)\n",
        "\n",
        "        #First Fully Connected Layer\n",
        "        W_fc1 = tf.get_variable('d_wfc1', [7 * 7 * 16, 32], initializer=tf.truncated_normal_initializer(stddev=0.02))\n",
        "        b_fc1 = tf.get_variable('d_bfc1', [32], initializer=tf.constant_initializer(0))\n",
        "        h_pool2_flat = tf.reshape(h_pool2, [-1, 7*7*16])\n",
        "        h_fc1 = tf.nn.relu(tf.matmul(h_pool2_flat, W_fc1) + b_fc1)\n",
        "\n",
        "        #Second Fully Connected Layer\n",
        "        W_fc2 = tf.get_variable('d_wfc2', [32, 1], initializer=tf.truncated_normal_initializer(stddev=0.02))\n",
        "        b_fc2 = tf.get_variable('d_bfc2', [1], initializer=tf.constant_initializer(0))\n",
        "\n",
        "        #Final Layer\n",
        "        y_conv=(tf.matmul(h_fc1, W_fc2) + b_fc2)\n",
        "    return y_conv"
      ],
      "execution_count": 0,
      "outputs": []
    },
    {
      "metadata": {
        "deletable": true,
        "editable": true,
        "id": "DEJnxvsqBZoZ",
        "colab_type": "text"
      },
      "cell_type": "markdown",
      "source": [
        "# Generator Network"
      ]
    },
    {
      "metadata": {
        "deletable": true,
        "editable": true,
        "id": "jFLROqFLBZob",
        "colab_type": "text"
      },
      "cell_type": "markdown",
      "source": [
        "Now that we have our discriminator defined, let’s take a look at the generator module. For this, we’ll be basing our model off the generator introduced in the DCGAN paper (link: https://arxiv.org/pdf/1511.06434v2.pdf). You can think of the generator as being a kind of reverse ConvNet. With CNNs, the goal is to transform a 2 or 3 dimensional matrix of pixel values into a single probability. A generator, however, seeks to take a d-dimensional noise vector and upsample it to become a 28 x 28 image. This upsampling is done through a convolutional transpose (or deconvolution) layer. ReLUs and Batch Norm are then used to stabilize the outputs of each layer. "
      ]
    },
    {
      "metadata": {
        "deletable": true,
        "editable": true,
        "id": "wgCz2pjnBZod",
        "colab_type": "text"
      },
      "cell_type": "markdown",
      "source": [
        "The structure of the generator is very similar to that of the discriminator, except we're calling the convolution transpose method, instead of the conv2d one. "
      ]
    },
    {
      "metadata": {
        "deletable": true,
        "editable": true,
        "id": "YHIG8yrRBZof",
        "colab_type": "text"
      },
      "cell_type": "markdown",
      "source": [
        "The conv transpose + relu + batch norm pipeline is repeated 4 times so that the output volume grows larger and larger until a 28 x 28 x 1 image is formed. "
      ]
    },
    {
      "metadata": {
        "deletable": true,
        "editable": true,
        "id": "8sgH0aBOBZog",
        "colab_type": "code",
        "colab": {}
      },
      "cell_type": "code",
      "source": [
        "def generator(z, batch_size, z_dim, reuse=False):\n",
        "    with tf.variable_scope('generator') as scope:\n",
        "        if (reuse):\n",
        "            tf.get_variable_scope().reuse_variables()\n",
        "        g_dim = 64 #Number of filters of first layer of generator \n",
        "        c_dim = 1 #Color dimension of output (MNIST is grayscale, so c_dim = 1 for us)\n",
        "        s = 28 #Output size of the image\n",
        "        s2, s4, s8, s16 = int(s/2), int(s/4), int(s/8), int(s/16) #We want to slowly upscale the image, so these values will help\n",
        "                                                                  #make that change gradual.\n",
        "\n",
        "        h0 = tf.reshape(z, [batch_size, s16+1, s16+1, 25])\n",
        "        h0 = tf.nn.relu(h0)\n",
        "        #Dimensions of h0 = batch_size x 2 x 2 x 25\n",
        "\n",
        "        #First DeConv Layer\n",
        "        output1_shape = [batch_size, s8, s8, g_dim*4]\n",
        "        W_conv1 = tf.get_variable('g_wconv1', [5, 5, output1_shape[-1], int(h0.get_shape()[-1])], \n",
        "                                  initializer=tf.truncated_normal_initializer(stddev=0.1))\n",
        "        b_conv1 = tf.get_variable('g_bconv1', [output1_shape[-1]], initializer=tf.constant_initializer(.1))\n",
        "        H_conv1 = tf.nn.conv2d_transpose(h0, W_conv1, output_shape=output1_shape, \n",
        "                                         strides=[1, 2, 2, 1], padding='SAME') + b_conv1\n",
        "        H_conv1 = tf.contrib.layers.batch_norm(inputs = H_conv1, center=True, scale=True, is_training=True, scope=\"g_bn1\")\n",
        "        H_conv1 = tf.nn.relu(H_conv1)\n",
        "        #Dimensions of H_conv1 = batch_size x 3 x 3 x 256\n",
        "\n",
        "        #Second DeConv Layer\n",
        "        output2_shape = [batch_size, s4 - 1, s4 - 1, g_dim*2]\n",
        "        W_conv2 = tf.get_variable('g_wconv2', [5, 5, output2_shape[-1], int(H_conv1.get_shape()[-1])], \n",
        "                                  initializer=tf.truncated_normal_initializer(stddev=0.1))\n",
        "        b_conv2 = tf.get_variable('g_bconv2', [output2_shape[-1]], initializer=tf.constant_initializer(.1))\n",
        "        H_conv2 = tf.nn.conv2d_transpose(H_conv1, W_conv2, output_shape=output2_shape, \n",
        "                                         strides=[1, 2, 2, 1], padding='SAME') + b_conv2\n",
        "        H_conv2 = tf.contrib.layers.batch_norm(inputs = H_conv2, center=True, scale=True, is_training=True, scope=\"g_bn2\")\n",
        "        H_conv2 = tf.nn.relu(H_conv2)\n",
        "        #Dimensions of H_conv2 = batch_size x 6 x 6 x 128\n",
        "\n",
        "        #Third DeConv Layer\n",
        "        output3_shape = [batch_size, s2 - 2, s2 - 2, g_dim*1]\n",
        "        W_conv3 = tf.get_variable('g_wconv3', [5, 5, output3_shape[-1], int(H_conv2.get_shape()[-1])], \n",
        "                                  initializer=tf.truncated_normal_initializer(stddev=0.1))\n",
        "        b_conv3 = tf.get_variable('g_bconv3', [output3_shape[-1]], initializer=tf.constant_initializer(.1))\n",
        "        H_conv3 = tf.nn.conv2d_transpose(H_conv2, W_conv3, output_shape=output3_shape, \n",
        "                                         strides=[1, 2, 2, 1], padding='SAME') + b_conv3\n",
        "        H_conv3 = tf.contrib.layers.batch_norm(inputs = H_conv3, center=True, scale=True, is_training=True, scope=\"g_bn3\")\n",
        "        H_conv3 = tf.nn.relu(H_conv3)\n",
        "        #Dimensions of H_conv3 = batch_size x 12 x 12 x 64\n",
        "\n",
        "        #Fourth DeConv Layer\n",
        "        output4_shape = [batch_size, s, s, c_dim]\n",
        "        W_conv4 = tf.get_variable('g_wconv4', [5, 5, output4_shape[-1], int(H_conv3.get_shape()[-1])], \n",
        "                                  initializer=tf.truncated_normal_initializer(stddev=0.1))\n",
        "        b_conv4 = tf.get_variable('g_bconv4', [output4_shape[-1]], initializer=tf.constant_initializer(.1))\n",
        "        H_conv4 = tf.nn.conv2d_transpose(H_conv3, W_conv4, output_shape=output4_shape, \n",
        "                                         strides=[1, 2, 2, 1], padding='VALID') + b_conv4\n",
        "        H_conv4 = tf.nn.tanh(H_conv4)\n",
        "        #Dimensions of H_conv4 = batch_size x 28 x 28 x 1\n",
        "\n",
        "    return H_conv4"
      ],
      "execution_count": 0,
      "outputs": []
    },
    {
      "metadata": {
        "deletable": true,
        "editable": true,
        "id": "_Fvhq1L1BZon",
        "colab_type": "text"
      },
      "cell_type": "markdown",
      "source": [
        "## Generating a Sample Image "
      ]
    },
    {
      "metadata": {
        "deletable": true,
        "editable": true,
        "id": "Vmo3MT5DBZoq",
        "colab_type": "text"
      },
      "cell_type": "markdown",
      "source": [
        "Okay, so now we’ve defined both the generator and discriminator functions. Let’s see what a sample output from an untrained generator looks like. With Tensorflow, we need to first define a session and then create a placeholder for the input to our generator. The purpose of a placeholder is basically to tell Tensorflow \"We're going to input in our random z vector later, but for now, we're going to define this placeholder variable instead\". It lets Tensorflow know about the size of the inputs beforehand. The shape of the placeholder will be None x z_dimensions. The None keyword means that the value can be determined at session runtime. We normally have None as our first dimension so that we can have variable batch sizes (With a batch size of 16, the input to the generator would be 16 x 100). With the None keywoard, we don't have to specify batch_size until later. "
      ]
    },
    {
      "metadata": {
        "deletable": true,
        "editable": true,
        "id": "w7nI2JVrBZos",
        "colab_type": "code",
        "colab": {}
      },
      "cell_type": "code",
      "source": [
        "sess = tf.Session()\n",
        "z_dimensions = 100\n",
        "z_test_placeholder = tf.placeholder(tf.float32, [None, z_dimensions])"
      ],
      "execution_count": 0,
      "outputs": []
    },
    {
      "metadata": {
        "deletable": true,
        "editable": true,
        "id": "pzY3KlrjBZo1",
        "colab_type": "text"
      },
      "cell_type": "markdown",
      "source": [
        "Now, we create a variable (sample_image) that holds the output of the generator, and also initialize the random noise vector that we’ll use as input. The np.random.uniform function has three arguments. The first and second define the range of the output distribution we want (between -1 and 1 in our case), and the third defines the the shape of the vector (1 x 100)."
      ]
    },
    {
      "metadata": {
        "deletable": true,
        "editable": true,
        "id": "NoWwZCvRBZo2",
        "colab_type": "code",
        "colab": {}
      },
      "cell_type": "code",
      "source": [
        "sample_image = generator(z_test_placeholder, 1, z_dimensions)\n",
        "test_z = np.random.uniform(-1, 1, [1,z_dimensions])"
      ],
      "execution_count": 0,
      "outputs": []
    },
    {
      "metadata": {
        "deletable": true,
        "editable": true,
        "id": "-ds1xiEjBZo6",
        "colab_type": "text"
      },
      "cell_type": "markdown",
      "source": [
        "Next, we initialize all the variables, feed our test_z into the placeholder, and run the session. The sess.run function has two arguments. The first is called the \"fetches\" argument. It defines the value for you're interested in computing. For example, in our case, we want to see what the output of the generator is. If you look back at the last code snippet, the output of the generator function is stored in sample_image. Therefore, we'll use sample_image for our first argument. The second argument is where we input our feed_dict. This data structure is where we provide inputs to all of our placeholders. In our example, we need to feed our test_z variable into the z placeholder we defined earlier. "
      ]
    },
    {
      "metadata": {
        "deletable": true,
        "editable": true,
        "id": "JxshEe0DBZo7",
        "colab_type": "code",
        "colab": {}
      },
      "cell_type": "code",
      "source": [
        "sess.run(tf.global_variables_initializer())\n",
        "temp = (sess.run(sample_image, feed_dict={z_test_placeholder: test_z}))"
      ],
      "execution_count": 0,
      "outputs": []
    },
    {
      "metadata": {
        "deletable": true,
        "editable": true,
        "id": "gzACLJxLBZpA",
        "colab_type": "text"
      },
      "cell_type": "markdown",
      "source": [
        "Finally, we can view the output through matplotlib. "
      ]
    },
    {
      "metadata": {
        "deletable": true,
        "editable": true,
        "id": "PhPOeuuwBZpB",
        "colab_type": "code",
        "outputId": "71fd4486-cca9-4813-9365-58eba3165794",
        "colab": {
          "base_uri": "https://localhost:8080/",
          "height": 265
        }
      },
      "cell_type": "code",
      "source": [
        "my_i = temp.squeeze()\n",
        "plt.imshow(my_i, cmap='gray_r')\n",
        "plt.show()"
      ],
      "execution_count": 12,
      "outputs": [
        {
          "output_type": "display_data",
          "data": {
            "image/png": "[encoded data removed]",
            "text/plain": [
              "<matplotlib.figure.Figure at 0x7f3f6c78e6a0>"
            ]
          },
          "metadata": {
            "tags": []
          }
        }
      ]
    },
    {
      "metadata": {
        "deletable": true,
        "editable": true,
        "id": "ZU5RU-n0BZpK",
        "colab_type": "text"
      },
      "cell_type": "markdown",
      "source": [
        "Not a very convincing MNIST digit right? Let’s look at how we can make our generator better. Enter loss functions and optimization!"
      ]
    },
    {
      "metadata": {
        "deletable": true,
        "editable": true,
        "id": "-IsJ0sFCBZpM",
        "colab_type": "text"
      },
      "cell_type": "markdown",
      "source": [
        "# Training a GAN"
      ]
    },
    {
      "metadata": {
        "id": "6Q0W5Md74BFi",
        "colab_type": "code",
        "colab": {}
      },
      "cell_type": "code",
      "source": [
        "tf.reset_default_graph()"
      ],
      "execution_count": 0,
      "outputs": []
    },
    {
      "metadata": {
        "deletable": true,
        "editable": true,
        "id": "P7SrTehzBZpO",
        "colab_type": "code",
        "colab": {}
      },
      "cell_type": "code",
      "source": [
        "batch_size = 32\n",
        "tf.reset_default_graph() #Since we changed our batch size (from 1 to 16), we need to reset our Tensorflow graph\n",
        "\n",
        "sess = tf.Session()\n",
        "x_placeholder = tf.placeholder(\"float\", shape = [None,28,28,1]) #Placeholder for input images to the discriminator\n",
        "z_placeholder = tf.placeholder(tf.float32, [None, z_dimensions]) #Placeholder for input noise vectors to the generator"
      ],
      "execution_count": 0,
      "outputs": []
    },
    {
      "metadata": {
        "deletable": true,
        "editable": true,
        "id": "ItTVr3ywBZpT",
        "colab_type": "text"
      },
      "cell_type": "markdown",
      "source": [
        "One of the trickiest parts about understanding GANs is that the loss function is a little bit more complex than that of a traditional CNN classifiers (For those, a simple MSE or Hinge Loss would do the trick). If you think back to the introduction, a GAN can be thought of as a zero sum minimax game. The generator is constantly improving to produce more and more realistic images, while the discriminator is trying to get better and better at distinguishing between real and generated images. This means that we need to formulate loss functions that affect both networks. Let’s take a look at the inputs and outputs of our networks. "
      ]
    },
    {
      "metadata": {
        "deletable": true,
        "editable": true,
        "id": "8wZnJFbDBZpU",
        "colab_type": "code",
        "colab": {}
      },
      "cell_type": "code",
      "source": [
        "Dx = discriminator(x_placeholder) #Dx will hold discriminator prediction probabilities for the real MNIST images\n",
        "Gz = generator(z_placeholder, batch_size, z_dimensions) #Gz holds the generated images\n",
        "Dg = discriminator(Gz, reuse=True) #Dg will hold discriminator prediction probabilities for generated images"
      ],
      "execution_count": 0,
      "outputs": []
    },
    {
      "metadata": {
        "deletable": true,
        "editable": true,
        "id": "xKgV33uxBZpZ",
        "colab_type": "text"
      },
      "cell_type": "markdown",
      "source": [
        "So, let’s first think about what we want out of our networks. We want the generator network to create images that will fool the discriminator. The generator wants the discriminator to output a 1 (positive example). Therefore, we want to compute the loss between the Dg and label of 1. This can be done through the tf.nn.sigmoid_cross_entropy_with_logits function. This means that the cross entropy loss will be taken between the two arguments. The \"with_logits\" component means that the function will operate on unscaled values. Basically, this means that instead of using a softmax function to squish the output activations to probability values from 0 to 1, we simply return the unscaled value of the matrix multiplication. Take a look at the last line of our discriminator. There's no softmax or sigmoid layer at the end. "
      ]
    },
    {
      "metadata": {
        "deletable": true,
        "editable": true,
        "id": "tesgjxYYBZpc",
        "colab_type": "text"
      },
      "cell_type": "markdown",
      "source": [
        "The reduce mean function just takes the mean value of all of the components in the matrixx returned by the cross entropy function. This is just a way of reducing the loss to a single scalar value, instead of a vector or matrix. "
      ]
    },
    {
      "metadata": {
        "deletable": true,
        "editable": true,
        "id": "jpbX_FNlBZpd",
        "colab_type": "code",
        "colab": {}
      },
      "cell_type": "code",
      "source": [
        "g_loss = tf.reduce_mean(tf.nn.sigmoid_cross_entropy_with_logits(logits = Dg, labels = tf.ones_like(Dg))) # ensure forward compatibility: function needs to have logits and labels args explicitly used"
      ],
      "execution_count": 0,
      "outputs": []
    },
    {
      "metadata": {
        "deletable": true,
        "editable": true,
        "id": "XlqprWlMBZpk",
        "colab_type": "text"
      },
      "cell_type": "markdown",
      "source": [
        "Now, let’s think about the discriminator’s point of view. Its goal is to just get the correct labels (output 1 for each MNIST digit and 0 for the generated ones). We’d like to compute the loss between Dx and the correct label of 1 as well as the loss between Dg and the correct label of 0. "
      ]
    },
    {
      "metadata": {
        "deletable": true,
        "editable": true,
        "id": "_GJEK9xpBZpm",
        "colab_type": "code",
        "colab": {}
      },
      "cell_type": "code",
      "source": [
        "d_loss_real = tf.reduce_mean(tf.nn.sigmoid_cross_entropy_with_logits(logits = Dx, labels = tf.ones_like(Dx)))\n",
        "d_loss_fake = tf.reduce_mean(tf.nn.sigmoid_cross_entropy_with_logits(logits = Dg, labels = tf.zeros_like(Dg)))\n",
        "d_loss = d_loss_real + d_loss_fake"
      ],
      "execution_count": 0,
      "outputs": []
    },
    {
      "metadata": {
        "deletable": true,
        "editable": true,
        "id": "HavMRXQKBZps",
        "colab_type": "text"
      },
      "cell_type": "markdown",
      "source": [
        "Once we have our 2 loss functions (d_loss and g_loss), we need to define our optimizers. Keep in mind that the optimizer for the generator network needs to only update the generator’s weights, not those of the discriminator. In order to make this distinction, we need to create 2 lists, one with the discriminator’s weights and one with the generator’s weights. This is where naming all of your Tensorflow variables can come in handy. "
      ]
    },
    {
      "metadata": {
        "deletable": true,
        "editable": true,
        "id": "2tiwfGPOBZpu",
        "colab_type": "code",
        "colab": {}
      },
      "cell_type": "code",
      "source": [
        "tvars = tf.trainable_variables()\n",
        "d_vars = [var for var in tvars if 'd_' in var.name]\n",
        "g_vars = [var for var in tvars if 'g_' in var.name]"
      ],
      "execution_count": 0,
      "outputs": []
    },
    {
      "metadata": {
        "deletable": true,
        "editable": true,
        "id": "5S0bW4bZBZp0",
        "colab_type": "text"
      },
      "cell_type": "markdown",
      "source": [
        "Next, we specify our two optimizers. In today’s era of deep learning, Adam seems to be the best SGD optimizer as it utilizes adaptive learning rates and momentum. We call Adam's minimize function and also specify the variables that we want it to update. "
      ]
    },
    {
      "metadata": {
        "deletable": true,
        "editable": true,
        "id": "wpCF1GheBZp0",
        "colab_type": "code",
        "colab": {}
      },
      "cell_type": "code",
      "source": [
        "adam = tf.train.AdamOptimizer(learning_rate=0.002)\n",
        "trainerD = adam.minimize(d_loss, var_list=d_vars)\n",
        "trainerG = adam.minimize(g_loss, var_list=g_vars)"
      ],
      "execution_count": 0,
      "outputs": []
    },
    {
      "metadata": {
        "deletable": true,
        "editable": true,
        "id": "5IpAljC4BZp5",
        "colab_type": "text"
      },
      "cell_type": "markdown",
      "source": [
        "You can also specify a learning rate by passing it as an argument (I’ve found .0002 to be effective). "
      ]
    },
    {
      "metadata": {
        "deletable": true,
        "editable": true,
        "id": "HOacTyyFBZp6",
        "colab_type": "text"
      },
      "cell_type": "markdown",
      "source": [
        "Ah, now the best part of neural networks, the famous training loop. During every iteration, there will be two updates being made, one to the discriminator and one to the generator. For the generator update, we’ll feed in a random z vector to the generator and pass that output to the discriminator to obtain a probability score (this is the Dg variable we specified earlier). As we remember from our loss function, the cross entropy loss gets minimized, and only the generator’s weights and biases get updated. "
      ]
    },
    {
      "metadata": {
        "deletable": true,
        "editable": true,
        "id": "7v22NQfpBZp7",
        "colab_type": "text"
      },
      "cell_type": "markdown",
      "source": [
        "We'll do the same for the discriminator update. We’ll be taking a batch of images from the mnist variable we created way at the beginning of our program. These will serve as the positive examples, while the images in the previous section are the negative ones. "
      ]
    },
    {
      "metadata": {
        "deletable": true,
        "editable": true,
        "scrolled": true,
        "id": "L0xnyMXHBZp9",
        "colab_type": "code",
        "colab": {}
      },
      "cell_type": "code",
      "source": [
        "sess.run(tf.global_variables_initializer())\n",
        "iterations = 3000\n",
        "for i in range(iterations):\n",
        "    z_batch = np.random.uniform(-1, 1, size=[batch_size, z_dimensions])\n",
        "    real_image_batch = mnist.train.next_batch(batch_size)\n",
        "    real_image_batch = np.reshape(real_image_batch[0],[batch_size,28,28,1])\n",
        "    _,dLoss = sess.run([trainerD, d_loss],feed_dict={z_placeholder:z_batch,x_placeholder:real_image_batch}) #Update the discriminator\n",
        "    _,gLoss = sess.run([trainerG,g_loss],feed_dict={z_placeholder:z_batch}) #Update the generator "
      ],
      "execution_count": 0,
      "outputs": []
    },
    {
      "metadata": {
        "deletable": true,
        "editable": true,
        "id": "77lKRzUmBZqC",
        "colab_type": "text"
      },
      "cell_type": "markdown",
      "source": [
        "Let's now see what a sample image looks like after training. "
      ]
    },
    {
      "metadata": {
        "id": "mN5DZmb21AoU",
        "colab_type": "code",
        "colab": {
          "base_uri": "https://localhost:8080/",
          "height": 192
        },
        "outputId": "1a222c41-7d67-4ce5-826d-a1c425b47ee0"
      },
      "cell_type": "code",
      "source": [
        "# train again for other 3000 epochs\n",
        "import time\n",
        "sess.run(tf.global_variables_initializer())\n",
        "epochs = 10\n",
        "epochs_list, dLoss_list, gLoss_list = [], [], []\n",
        "train_loss_results_d, train_loss_results_g = [], []\n",
        "t = time.time()\n",
        "for epoch in range(epochs):\n",
        "  epoch_loss_avg_d = 0\n",
        "  epoch_loss_avg_g = 0\n",
        "  epoch_iteration = 0\n",
        "  \n",
        "  for starting_batch in range(0, x_train.shape[0], batch_size):\n",
        "    \n",
        "    z_batch = np.random.uniform(-1, 1, size=[batch_size, z_dimensions])\n",
        "    _,gLoss = sess.run([trainerG,g_loss],feed_dict={z_placeholder:z_batch}) #Update the generator \n",
        "\n",
        "    if epoch_iteration % 3 == 0:\n",
        "      real_image_batch = x_train[starting_batch : starting_batch + batch_size, :]\n",
        "      real_image_batch = np.reshape(real_image_batch,[batch_size,28,28,1])\n",
        "      _,dLoss = sess.run([trainerD, d_loss],feed_dict={z_placeholder:z_batch,x_placeholder:real_image_batch}) #Update the discriminator\n",
        "      epoch_loss_avg_d += dLoss\n",
        "      epoch_loss_avg_g += gLoss\n",
        "    epoch_iteration += 1\n",
        "    \n",
        "  train_loss_results_d.append(epoch_loss_avg_d / epoch_iteration)\n",
        "  train_loss_results_g.append(epoch_loss_avg_g / epoch_iteration)\n",
        "  print(\"Epoch: {}, d_loss:avg: {}, g_loss_avg: {} in {} sec\".format(epoch, train_loss_results_d[-1], train_loss_results_g[-1], time.time() - t))\n",
        "  t = time.time()\n",
        "  "
      ],
      "execution_count": 72,
      "outputs": [
        {
          "output_type": "stream",
          "text": [
            "Epoch: 0, d_loss:avg: 0.35167234865574726, g_loss_avg: 0.5173827641410076 in 21.761953115463257 sec\n",
            "Epoch: 1, d_loss:avg: 0.23287308397266737, g_loss_avg: 0.6712658441711679 in 21.696595191955566 sec\n",
            "Epoch: 2, d_loss:avg: 0.2658217743736946, g_loss_avg: 0.6672747884121241 in 21.597262859344482 sec\n",
            "Epoch: 3, d_loss:avg: 0.20375206348783684, g_loss_avg: 0.7228701894993419 in 21.578328132629395 sec\n",
            "Epoch: 4, d_loss:avg: 0.1830031848043949, g_loss_avg: 0.8047208708861042 in 21.516392946243286 sec\n",
            "Epoch: 5, d_loss:avg: 0.09911519655965403, g_loss_avg: 1.1015423391883354 in 21.524163246154785 sec\n",
            "Epoch: 6, d_loss:avg: 0.0792341715201937, g_loss_avg: 1.4109665315431381 in 21.512515783309937 sec\n",
            "Epoch: 7, d_loss:avg: 0.03630283860711315, g_loss_avg: 1.480868671334296 in 21.52954864501953 sec\n",
            "Epoch: 8, d_loss:avg: 0.06975466468112208, g_loss_avg: 1.4568466219949194 in 21.53257393836975 sec\n",
            "Epoch: 9, d_loss:avg: 0.09906019590978704, g_loss_avg: 1.1362650841561217 in 21.41798233985901 sec\n"
          ],
          "name": "stdout"
        }
      ]
    },
    {
      "metadata": {
        "id": "-zhfEkbH5twN",
        "colab_type": "code",
        "colab": {
          "base_uri": "https://localhost:8080/",
          "height": 282
        },
        "outputId": "62093297-68eb-495b-984d-f51e6a80b3ea"
      },
      "cell_type": "code",
      "source": [
        "plt.plot(range(epochs), train_loss_results_d, 'r')\n",
        "plt.plot(range(epochs), train_loss_results_g, 'b')\n",
        "plt.figure(figsize=(10,10))\n",
        "plt.show()"
      ],
      "execution_count": 73,
      "outputs": [
        {
          "output_type": "display_data",
          "data": {
            "image/png": "[encoded data removed]",
            "text/plain": [
              "<matplotlib.figure.Figure at 0x7f3f642f1978>"
            ]
          },
          "metadata": {
            "tags": []
          }
        },
        {
          "output_type": "display_data",
          "data": {
            "text/plain": [
              "<matplotlib.figure.Figure at 0x7f3f659c3e80>"
            ]
          },
          "metadata": {
            "tags": []
          }
        }
      ]
    },
    {
      "metadata": {
        "deletable": true,
        "editable": true,
        "scrolled": true,
        "id": "sQ41AWVeBZqD",
        "colab_type": "code",
        "outputId": "0147f318-cfb0-4acc-f85d-0a2fcb4468a0",
        "colab": {
          "base_uri": "https://localhost:8080/",
          "height": 282
        }
      },
      "cell_type": "code",
      "source": [
        "sample_image = generator(z_placeholder, 1, z_dimensions, reuse=True)\n",
        "z_batch = np.random.uniform(-1, 1, size=[1, z_dimensions])\n",
        "temp = (sess.run(sample_image, feed_dict={z_placeholder: z_batch}))\n",
        "my_i = temp.squeeze()\n",
        "plt.imshow(my_i, cmap='gray_r')"
      ],
      "execution_count": 74,
      "outputs": [
        {
          "output_type": "execute_result",
          "data": {
            "text/plain": [
              "<matplotlib.image.AxesImage at 0x7f3f660bf9b0>"
            ]
          },
          "metadata": {
            "tags": []
          },
          "execution_count": 74
        },
        {
          "output_type": "display_data",
          "data": {
            "image/png": "[encoded data removed]",
            "text/plain": [
              "<matplotlib.figure.Figure at 0x7f3f660d3dd8>"
            ]
          },
          "metadata": {
            "tags": []
          }
        }
      ]
    },
    {
      "metadata": {
        "deletable": true,
        "editable": true,
        "id": "wd8c0SXmBZqH",
        "colab_type": "text"
      },
      "cell_type": "markdown",
      "source": [
        "# Training Difficulties"
      ]
    },
    {
      "metadata": {
        "deletable": true,
        "editable": true,
        "id": "iF-7FPInBZqI",
        "colab_type": "text"
      },
      "cell_type": "markdown",
      "source": [
        "One note that I’d like to make is that GANs are notoriously difficult to train. Without the right hyperparameters, network architecture, and training procedure, there is a high chance that either the generator or discriminator will overpower the other. A common case of this is the situation where the generator is able to find a flaw in the discriminator by repeatedly outputting an image that fits the data distribution the discriminator is looking for, but is nowhere close to being a readable MNIST digit. The generator has collapsed onto a single point, and therefore we won’t output a variety of digits. There are also cases where the discriminator becomes too powerful and is able to easily make the distinction between real and fake images. "
      ]
    },
    {
      "metadata": {
        "deletable": true,
        "editable": true,
        "id": "wMneRPmuBZqJ",
        "colab_type": "text"
      },
      "cell_type": "markdown",
      "source": [
        "The mathematical intuition behind this phenomenon lies in that GANs are typically trained using gradient descent techniques that are designed to find the minimum value of a cost function, rather than to find the Nash equilibrium of a game. When used to seek for a Nash equilibrium, these algorithms may fail to converge. Further research into game theory and stable optimization techniques may result in GANs that are as easy to train as ConvNets!"
      ]
    },
    {
      "metadata": {
        "deletable": true,
        "editable": true,
        "id": "TUx02MKpBZqK",
        "colab_type": "text"
      },
      "cell_type": "markdown",
      "source": [
        "# Closing Thoughts"
      ]
    },
    {
      "metadata": {
        "deletable": true,
        "editable": true,
        "id": "atyCD4UzBZqL",
        "colab_type": "text"
      },
      "cell_type": "markdown",
      "source": [
        "In this post, we showed how two networks were able to play a minimax game in order to capture the data distribution of the MNIST digits and generate similar looking samples. With applications in video frame prediction, text-image mappings, and more, GANs are definitely the hottest topic in deep learning. Hopefully, with this tutorial, you’ve gained a better understanding of how these networks work in practice and how you can build your own with Tensorflow!\n"
      ]
    },
    {
      "metadata": {
        "deletable": true,
        "editable": true,
        "id": "nmmJaCI0BZqM",
        "colab_type": "text"
      },
      "cell_type": "markdown",
      "source": [
        "Some more great GAN implementations\n",
        "\n",
        "DCGAN Tensorflow Implentation: https://github.com/carpedm20/DCGAN-tensorflow\n",
        "\n",
        "Arthur Juliani's GAN Implementation: https://github.com/awjuliani/TF-Tutorials/blob/master/DCGAN.ipynb \n",
        "\n",
        "Brandon Amos's Image Completion Project: https://bamos.github.io/2016/08/09/deep-completion/ "
      ]
    }
  ]
}